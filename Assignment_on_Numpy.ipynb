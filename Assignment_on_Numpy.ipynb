{
  "nbformat": 4,
  "nbformat_minor": 0,
  "metadata": {
    "colab": {
      "provenance": []
    },
    "kernelspec": {
      "name": "python3",
      "display_name": "Python 3"
    },
    "language_info": {
      "name": "python"
    }
  },
  "cells": [
    {
      "cell_type": "code",
      "execution_count": null,
      "metadata": {
        "id": "rPvEUCI-5tE5"
      },
      "outputs": [],
      "source": []
    },
    {
      "cell_type": "markdown",
      "source": [
        " 1. Explain the purpose and advantages of NumPy in scientific computing and data analysis. How does it\n",
        "enhance Python's capabilities for numerical operations"
      ],
      "metadata": {
        "id": "K7vs0JSDoCnC"
      }
    },
    {
      "cell_type": "markdown",
      "source": [
        "Numpy is a fundamental library in python for scientific computing.it offers powerful features for working with multidimensional arrays and performing various mathematical operations efficiently.NumPy (Numerical Python) is an open source Python library that has a wide range of inbuilt functions.NumPy is ideal for handling large amounts of homogeneous (same-type) data, offering significant improvements in speed and memory efficiency. It also provides high-level syntax for a wide range of numerical operations, making it a powerful tool for scientific computing and data processing on the CPU."
      ],
      "metadata": {
        "id": "iPxJ2ziWiDq0"
      }
    },
    {
      "cell_type": "code",
      "source": [],
      "metadata": {
        "id": "7xil5LgYoJkd"
      },
      "execution_count": null,
      "outputs": []
    },
    {
      "cell_type": "markdown",
      "source": [
        " 2. Compare and contrast np.mean() and np.average() functions in NumPy. When would you use one over the\n",
        "other?"
      ],
      "metadata": {
        "id": "eGu6NEKLv5zD"
      }
    },
    {
      "cell_type": "code",
      "source": [
        "\n",
        "#np.mean()- calculate the simple arithmetic mean of an array and treats all elements equally.\n",
        "#mp.average()- can also calculate the mean but allows for weighted averages,letting you assign different importance to elements.\n",
        "#use np.mean() for a straightforward average and np.average() when you need to consider weights.\n",
        ""
      ],
      "metadata": {
        "id": "IPuueZ6Nv6HF"
      },
      "execution_count": 1,
      "outputs": []
    },
    {
      "cell_type": "markdown",
      "source": [
        "3. Describe the methods for reversing a NumPy array along different axes. Provide examples for 1D and 2D\n",
        "arrays."
      ],
      "metadata": {
        "id": "j8t1rpAev8xW"
      }
    },
    {
      "cell_type": "code",
      "source": [
        "import numpy as np\n",
        "arr1_1d = np.array([1,2,3,4,5])\n",
        "reversed_1d = arr1_1d[::-1]\n",
        "print(reversed_1d)"
      ],
      "metadata": {
        "id": "ar4TAxJav9Hq",
        "colab": {
          "base_uri": "https://localhost:8080/"
        },
        "outputId": "cebddd39-26b5-43d6-c06b-e558f2fcbff5"
      },
      "execution_count": 2,
      "outputs": [
        {
          "output_type": "stream",
          "name": "stdout",
          "text": [
            "[5 4 3 2 1]\n"
          ]
        }
      ]
    },
    {
      "cell_type": "code",
      "source": [
        "\n",
        "#example using np.flip()\n",
        "\n",
        "reversed_1d_flip = np.flip(arr1_1d)\n",
        "print(reversed_1d_flip)"
      ],
      "metadata": {
        "colab": {
          "base_uri": "https://localhost:8080/"
        },
        "id": "UUGTsihFkWL3",
        "outputId": "ef240a57-459a-4d58-c861-6d231e3658c3"
      },
      "execution_count": 5,
      "outputs": [
        {
          "output_type": "stream",
          "name": "stdout",
          "text": [
            "[5 4 3 2 1]\n"
          ]
        }
      ]
    },
    {
      "cell_type": "code",
      "source": [
        "#reversing a 2d array\n",
        "#example using slicing\n",
        "\n",
        "arr_2d = np.array([[1, 2, 3], [4, 5, 6], [7, 8, 9]])\n",
        "reversed_2d = arr_2d[::-1, ::-1]\n",
        "print(reversed_2d)"
      ],
      "metadata": {
        "colab": {
          "base_uri": "https://localhost:8080/"
        },
        "id": "zsnBovHDkmQZ",
        "outputId": "8c28fe14-6fa0-4a52-863e-fb9ffb14b4ab"
      },
      "execution_count": 6,
      "outputs": [
        {
          "output_type": "stream",
          "name": "stdout",
          "text": [
            "[[9 8 7]\n",
            " [6 5 4]\n",
            " [3 2 1]]\n"
          ]
        }
      ]
    },
    {
      "cell_type": "code",
      "source": [
        "\n",
        "#example using np.flip()\n",
        "\n",
        "reversed_2d_flip = np.flip(arr_2d)\n",
        "print(reversed_2d_flip)"
      ],
      "metadata": {
        "colab": {
          "base_uri": "https://localhost:8080/"
        },
        "id": "BlppuaOGkqQT",
        "outputId": "e94d9bac-208c-4261-a554-969de6349b79"
      },
      "execution_count": 8,
      "outputs": [
        {
          "output_type": "stream",
          "name": "stdout",
          "text": [
            "[[9 8 7]\n",
            " [6 5 4]\n",
            " [3 2 1]]\n"
          ]
        }
      ]
    },
    {
      "cell_type": "markdown",
      "source": [
        " 4. How can you determine the data type of elements in a NumPy array? Discuss the importance of data types\n",
        "in memory management and performance."
      ],
      "metadata": {
        "id": "-S2ZaQiswAP_"
      }
    },
    {
      "cell_type": "code",
      "source": [
        "#We use the array() function to create arrays, this function can take an optional argument: dtype that allows us to define the expected data type of the array elements\n",
        ""
      ],
      "metadata": {
        "id": "u6-c1r-MwAkx"
      },
      "execution_count": 9,
      "outputs": []
    },
    {
      "cell_type": "code",
      "source": [
        "import numpy as np\n",
        "arr = np.array([1, 2, 3, 4], dtype='S')\n",
        "print(arr)\n",
        "print(arr.dtype)"
      ],
      "metadata": {
        "colab": {
          "base_uri": "https://localhost:8080/"
        },
        "id": "7Sd50XE_lH8N",
        "outputId": "2281fa0e-f6db-4534-f146-52574c9d8beb"
      },
      "execution_count": 10,
      "outputs": [
        {
          "output_type": "stream",
          "name": "stdout",
          "text": [
            "[b'1' b'2' b'3' b'4']\n",
            "|S1\n"
          ]
        }
      ]
    },
    {
      "cell_type": "code",
      "source": [
        "\n",
        "#data types are crucial for memory management and performance because: memory efficiency,performance,precision\n",
        "#overall ,selecting the appropriate data type helps ensure efficient memory use and optimal performance."
      ],
      "metadata": {
        "id": "JxLZCO-2lRUj"
      },
      "execution_count": 11,
      "outputs": []
    },
    {
      "cell_type": "markdown",
      "source": [
        "5. Define ndarrays in NumPy and explain their key features. How do they differ from standard Python lists?"
      ],
      "metadata": {
        "id": "zpdcVkS3wBec"
      }
    },
    {
      "cell_type": "code",
      "source": [
        "\n",
        "#Arrays are “n-dimensional” data structures that can contain all the basic Python data types, e.g., floats, integers, strings etc, but work best with numeric data. NumPy arrays (“ndarrays”) are homogenous, which means that items in the array should be of the same type.\n",
        "#NumPy provides a rich set of data types that can be used to create arrays with different types of elements. The data types in NumPy are similar to, but not exactly the same as, Python data types.\n",
        ""
      ],
      "metadata": {
        "id": "28LEr9XFwDk3"
      },
      "execution_count": 12,
      "outputs": []
    },
    {
      "cell_type": "markdown",
      "source": [
        " 6. Analyze the performance benefits of NumPy arrays over Python lists for large-scale numerical operations."
      ],
      "metadata": {
        "id": "bX55xY2zwFLv"
      }
    },
    {
      "cell_type": "code",
      "source": [
        "#Array From Existing Data\" refers to the capability of creating NumPy arrays using pre-existing data structures or arrays. NumPy is a powerful numerical computing library in Python, and its arrays (ndarrays) are a fundamental data structure that allows efficient manipulation of numerical data.\n",
        ""
      ],
      "metadata": {
        "id": "Tw1wslyFwHdU"
      },
      "execution_count": 13,
      "outputs": []
    },
    {
      "cell_type": "markdown",
      "source": [
        "7. Compare vstack() and hstack() functions in NumPy. Provide examples demonstrating their usage and\n",
        "output."
      ],
      "metadata": {
        "id": "fpOmKwm6wIv8"
      }
    },
    {
      "cell_type": "code",
      "source": [
        "#in numpy, vstack() and hstack() are functions used to stack arrays vertically and horizontally , respectively.\n"
      ],
      "metadata": {
        "id": "m3ACuT7BwND9"
      },
      "execution_count": 14,
      "outputs": []
    },
    {
      "cell_type": "code",
      "source": [
        "\n",
        "#example of vstack()\n",
        "\n",
        "import numpy as np\n",
        "array1 = np.array([[1, 2], [3, 4]])\n",
        "array2 = np.array([[5, 6]])\n",
        "result = np.vstack((array1, array2))\n",
        "print(result)\n"
      ],
      "metadata": {
        "colab": {
          "base_uri": "https://localhost:8080/"
        },
        "id": "t3CVJDNsmJXC",
        "outputId": "403ef992-a724-49c6-f9e7-84aaf118cda1"
      },
      "execution_count": 15,
      "outputs": [
        {
          "output_type": "stream",
          "name": "stdout",
          "text": [
            "[[1 2]\n",
            " [3 4]\n",
            " [5 6]]\n"
          ]
        }
      ]
    },
    {
      "cell_type": "code",
      "source": [
        "#example of hstack()\n",
        "\n",
        "import numpy as np\n",
        "array1 = np.array([[1, 2], [3, 4]])\n",
        "array2 = np.array([[5], [6]])\n",
        "result = np.hstack((array1, array2))\n",
        "print(result)\n"
      ],
      "metadata": {
        "colab": {
          "base_uri": "https://localhost:8080/"
        },
        "id": "0tHcGJyEmRK3",
        "outputId": "5a11c57d-a9a0-4b77-df15-6cae11203642"
      },
      "execution_count": 16,
      "outputs": [
        {
          "output_type": "stream",
          "name": "stdout",
          "text": [
            "[[1 2 5]\n",
            " [3 4 6]]\n"
          ]
        }
      ]
    },
    {
      "cell_type": "code",
      "source": [
        "#vstack() stacks arrays vertically, resulting in an increase in the number of rows\n",
        "#hstack() stacks arrays horizontally, resulting in an increase in the number of columns."
      ],
      "metadata": {
        "id": "ywLu9bQ_mXcF"
      },
      "execution_count": 17,
      "outputs": []
    },
    {
      "cell_type": "markdown",
      "source": [
        " 8. Explain the differences between fliplr() and flipud() methods in NumPy, including their effects on various\n",
        "array dimensions."
      ],
      "metadata": {
        "id": "1Y9IQpSqwOEs"
      }
    },
    {
      "cell_type": "code",
      "source": [
        "#in numpy, fliplr() and flipud() are methods used to flip arrays along different axes."
      ],
      "metadata": {
        "id": "FybCYzs-wQyr"
      },
      "execution_count": 18,
      "outputs": []
    },
    {
      "cell_type": "code",
      "source": [
        "#example of flipr()\n",
        "\n",
        "import numpy as np\n",
        "array2d = np.array([[1, 2, 3], [4, 5, 6], [7, 8, 9]])\n",
        "result_fliplr = np.fliplr(array2d)\n",
        "print(result_fliplr)"
      ],
      "metadata": {
        "colab": {
          "base_uri": "https://localhost:8080/"
        },
        "id": "jBWeAzL0oZen",
        "outputId": "000b1e44-2d25-4d6c-ed74-0a4ed7cc144a"
      },
      "execution_count": 19,
      "outputs": [
        {
          "output_type": "stream",
          "name": "stdout",
          "text": [
            "[[3 2 1]\n",
            " [6 5 4]\n",
            " [9 8 7]]\n"
          ]
        }
      ]
    },
    {
      "cell_type": "code",
      "source": [
        "\n",
        "#example of flipud()\n",
        "\n",
        "import numpy as np\n",
        "array2d = np.array([[1, 2, 3], [4, 5, 6]])\n",
        "result_flipud = np.flipud(array2d)\n",
        "print(result_flipud)"
      ],
      "metadata": {
        "colab": {
          "base_uri": "https://localhost:8080/"
        },
        "id": "NWON4BVBobKK",
        "outputId": "6dcb4a5a-6b47-470c-9f4b-50c83961ed13"
      },
      "execution_count": 20,
      "outputs": [
        {
          "output_type": "stream",
          "name": "stdout",
          "text": [
            "[[4 5 6]\n",
            " [1 2 3]]\n"
          ]
        }
      ]
    },
    {
      "cell_type": "code",
      "source": [
        "#effect on various array dimension\n",
        "#2d arrays-fliplr() flips arrays left to right(columns reversed).\n",
        "#2d arrays-flipud() flips arrays top to bottom(rows reversed)\n",
        "#for 1d arrays,both methods effectively reverse the order of elements\n",
        ""
      ],
      "metadata": {
        "id": "n92dpeCaomDt"
      },
      "execution_count": 21,
      "outputs": []
    },
    {
      "cell_type": "code",
      "source": [
        "#example\n",
        "\n",
        "array1d = np.array([1, 2, 3, 4])\n",
        "result_fliplr_1d = np.fliplr(array1d.reshape(-1, 1))\n",
        "result_flipud_1d = np.flipud(array1d)\n",
        "print(result_fliplr_1d)\n",
        "print(result_flipud_1d)\n",
        ""
      ],
      "metadata": {
        "colab": {
          "base_uri": "https://localhost:8080/"
        },
        "id": "EvxXHWWsonhR",
        "outputId": "270ed6ba-6cae-4057-f61b-d4bbb74e1e24"
      },
      "execution_count": 22,
      "outputs": [
        {
          "output_type": "stream",
          "name": "stdout",
          "text": [
            "[[1]\n",
            " [2]\n",
            " [3]\n",
            " [4]]\n",
            "[4 3 2 1]\n"
          ]
        }
      ]
    },
    {
      "cell_type": "markdown",
      "source": [
        " 9. Discuss the functionality of the array_split() method in NumPy. How does it handle uneven splits?"
      ],
      "metadata": {
        "id": "6I2rKlpuwVKn"
      }
    },
    {
      "cell_type": "code",
      "source": [
        "#Splitting divides an array into multiple sub-arrays along a specified axis using functions like split, hsplit, or vsplit.\n",
        "#example"
      ],
      "metadata": {
        "id": "he5BtolKwVde"
      },
      "execution_count": 23,
      "outputs": []
    },
    {
      "cell_type": "code",
      "source": [
        "import numpy as np\n",
        "arr = np.array([1,2,3,4,5,6,7,8,9])\n",
        "result = np.array_split(arr, 3)\n",
        "print(result)"
      ],
      "metadata": {
        "colab": {
          "base_uri": "https://localhost:8080/"
        },
        "id": "D6tJDD6Eqiko",
        "outputId": "895ad566-778e-43df-de87-79ec9285dfb3"
      },
      "execution_count": 24,
      "outputs": [
        {
          "output_type": "stream",
          "name": "stdout",
          "text": [
            "[array([1, 2, 3]), array([4, 5, 6]), array([7, 8, 9])]\n"
          ]
        }
      ]
    },
    {
      "cell_type": "markdown",
      "source": [
        "10. Explain the concepts of vectorization and broadcasting in NumPy. How do they contribute to efficient array\n",
        "operations?\n"
      ],
      "metadata": {
        "id": "kaVkdnb1weIH"
      }
    },
    {
      "cell_type": "code",
      "source": [
        "#NumPy broadcasting is a powerful feature that allows for implicit element-wise operations between arrays of different shapes and sizes. Broadcasting automatically adjusts the shape of smaller arrays to make them compatible with larger arrays, eliminating the need for explicit looping or copying of data. This makes it easier to perform operations on arrays of different shapes, reducing the need for unnecessary duplication of data. The general rule for broadcasting is that the dimensions of the arrays must be compatible, meaning that either the dimensions are equal, or one of them is 1. NumPy automatically performs broadcasting when you perform operations between arrays that satisfy these conditions.\n",
        "#vectorization in numpy means applying operations to entire arrays at once instead of using loops,which speeds up calculations.example,adding two arrays can be done directly with a+b, making it much faster\n",
        ""
      ],
      "metadata": {
        "id": "m6krmhXVwnL9"
      },
      "execution_count": 25,
      "outputs": []
    },
    {
      "cell_type": "markdown",
      "source": [
        "Practical Questions:"
      ],
      "metadata": {
        "id": "wna8EpnSww1Q"
      }
    },
    {
      "cell_type": "markdown",
      "source": [
        " 1. Create a 3x3 NumPy array with random integers between 1 and 100. Then, interchange its rows and columns."
      ],
      "metadata": {
        "id": "cdlv_G8gw4C1"
      }
    },
    {
      "cell_type": "code",
      "source": [
        "import numpy as np\n",
        "arr = np.random.randint(1,101,size=(3,3))\n",
        "print(arr)"
      ],
      "metadata": {
        "id": "uCWPssDiw4Yo",
        "colab": {
          "base_uri": "https://localhost:8080/"
        },
        "outputId": "0c509ae4-0311-4cd6-87fb-2b584adc4c8f"
      },
      "execution_count": 26,
      "outputs": [
        {
          "output_type": "stream",
          "name": "stdout",
          "text": [
            "[[85 61 20]\n",
            " [85 10 35]\n",
            " [23 25 16]]\n"
          ]
        }
      ]
    },
    {
      "cell_type": "code",
      "source": [
        "\n",
        "#interchange rows and columns\n",
        "\n",
        "interchanger_arr = arr.T\n",
        "print(interchanger_arr)"
      ],
      "metadata": {
        "colab": {
          "base_uri": "https://localhost:8080/"
        },
        "id": "CgyWmEq7w3a1",
        "outputId": "1965f613-9c98-4e96-e2af-a607cd370924"
      },
      "execution_count": 27,
      "outputs": [
        {
          "output_type": "stream",
          "name": "stdout",
          "text": [
            "[[85 85 23]\n",
            " [61 10 25]\n",
            " [20 35 16]]\n"
          ]
        }
      ]
    },
    {
      "cell_type": "code",
      "source": [],
      "metadata": {
        "id": "Tt16qcDdw3Ox"
      },
      "execution_count": null,
      "outputs": []
    },
    {
      "cell_type": "markdown",
      "source": [
        "2. Generate a 1D NumPy array with 10 elements. Reshape it into a 2x5 array, then into a 5x2 array"
      ],
      "metadata": {
        "id": "FE-3qVNdw6Lg"
      }
    },
    {
      "cell_type": "code",
      "source": [
        "import numpy as np\n",
        "arr_1d = np.arange(10)\n",
        "print(arr_1d)"
      ],
      "metadata": {
        "id": "uqKpWcy7w873",
        "colab": {
          "base_uri": "https://localhost:8080/"
        },
        "outputId": "ca0d136d-a463-4a8a-f16f-a4ef2d2423d3"
      },
      "execution_count": 31,
      "outputs": [
        {
          "output_type": "stream",
          "name": "stdout",
          "text": [
            "[0 1 2 3 4 5 6 7 8 9]\n"
          ]
        }
      ]
    },
    {
      "cell_type": "code",
      "source": [
        "#reshape in 2x5 array\n",
        "arr_2 = arr_1d.reshape(2,5)\n",
        "print(arr_2)"
      ],
      "metadata": {
        "colab": {
          "base_uri": "https://localhost:8080/"
        },
        "id": "jciQ_uC3xTd_",
        "outputId": "803346b5-03ea-4713-f44e-9a1531d28bbb"
      },
      "execution_count": 33,
      "outputs": [
        {
          "output_type": "stream",
          "name": "stdout",
          "text": [
            "[[0 1 2 3 4]\n",
            " [5 6 7 8 9]]\n"
          ]
        }
      ]
    },
    {
      "cell_type": "code",
      "source": [
        "#reshape in 5x2 array\n",
        "arr_3 = arr_2.reshape(5,2)\n",
        "print(arr_3)"
      ],
      "metadata": {
        "colab": {
          "base_uri": "https://localhost:8080/"
        },
        "id": "5lk7HwUlxTak",
        "outputId": "17e2eaa5-1087-4e26-d791-e0920fb0176a"
      },
      "execution_count": 34,
      "outputs": [
        {
          "output_type": "stream",
          "name": "stdout",
          "text": [
            "[[0 1]\n",
            " [2 3]\n",
            " [4 5]\n",
            " [6 7]\n",
            " [8 9]]\n"
          ]
        }
      ]
    },
    {
      "cell_type": "markdown",
      "source": [
        " 3. Create a 4x4 NumPy array with random float values. Add a border of zeros around it, resulting in a 6x6 array."
      ],
      "metadata": {
        "id": "2G6LTkj9w-Bl"
      }
    },
    {
      "cell_type": "code",
      "source": [
        "import numpy as np\n",
        "arr = np.random.rand(4,4)\n",
        "print(arr)"
      ],
      "metadata": {
        "id": "Ld4OHQIoxAjd",
        "colab": {
          "base_uri": "https://localhost:8080/"
        },
        "outputId": "101d19de-5a4f-4e71-d318-4702bcbec18a"
      },
      "execution_count": 37,
      "outputs": [
        {
          "output_type": "stream",
          "name": "stdout",
          "text": [
            "[[0.17082621 0.07589508 0.41146835 0.58761215]\n",
            " [0.12496689 0.04130792 0.68257524 0.0220317 ]\n",
            " [0.11625279 0.29724982 0.60948384 0.11418759]\n",
            " [0.37576608 0.13043538 0.59711636 0.59672766]]\n"
          ]
        }
      ]
    },
    {
      "cell_type": "code",
      "source": [
        "#add a border of zeros\n",
        "\n",
        "arr_border = np.pad(arr, pad_width=1, mode='constant', constant_values=0)\n",
        "print(arr_border)"
      ],
      "metadata": {
        "colab": {
          "base_uri": "https://localhost:8080/"
        },
        "id": "EsCw2cB4y-0O",
        "outputId": "925fe4f1-5ee4-4df6-bf3a-60ddc0503ad2"
      },
      "execution_count": 38,
      "outputs": [
        {
          "output_type": "stream",
          "name": "stdout",
          "text": [
            "[[0.         0.         0.         0.         0.         0.        ]\n",
            " [0.         0.17082621 0.07589508 0.41146835 0.58761215 0.        ]\n",
            " [0.         0.12496689 0.04130792 0.68257524 0.0220317  0.        ]\n",
            " [0.         0.11625279 0.29724982 0.60948384 0.11418759 0.        ]\n",
            " [0.         0.37576608 0.13043538 0.59711636 0.59672766 0.        ]\n",
            " [0.         0.         0.         0.         0.         0.        ]]\n"
          ]
        }
      ]
    },
    {
      "cell_type": "markdown",
      "source": [
        "4. Using NumPy, create an array of integers from 10 to 60 with a step of 5."
      ],
      "metadata": {
        "id": "tnFByh_oxEVI"
      }
    },
    {
      "cell_type": "code",
      "source": [
        "import numpy as np\n",
        "arr = np.arange(10,61,5)\n",
        "print(arr)"
      ],
      "metadata": {
        "id": "V8dTDlBRxEqq",
        "colab": {
          "base_uri": "https://localhost:8080/"
        },
        "outputId": "1b732ec6-4afb-4da3-bbe9-d861a840460f"
      },
      "execution_count": 40,
      "outputs": [
        {
          "output_type": "stream",
          "name": "stdout",
          "text": [
            "[10 15 20 25 30 35 40 45 50 55 60]\n"
          ]
        }
      ]
    },
    {
      "cell_type": "markdown",
      "source": [
        " 5. Create a NumPy array of strings ['python', 'numpy', 'pandas']. Apply different case transformations\n",
        "(uppercase, lowercase, title case, etc.) to each element."
      ],
      "metadata": {
        "id": "Yw0IuVjoxInt"
      }
    },
    {
      "cell_type": "code",
      "source": [
        "import numpy as np\n",
        "arr = np.array(['python', 'numpy', 'pandas'])\n",
        "print(arr)\n",
        ""
      ],
      "metadata": {
        "id": "q73ANdoBxJDh",
        "colab": {
          "base_uri": "https://localhost:8080/"
        },
        "outputId": "042b0f98-e4b9-48f8-a0ee-c9b153539b0d"
      },
      "execution_count": 41,
      "outputs": [
        {
          "output_type": "stream",
          "name": "stdout",
          "text": [
            "['python' 'numpy' 'pandas']\n"
          ]
        }
      ]
    },
    {
      "cell_type": "code",
      "source": [
        "#applying uppercase\n",
        "\n",
        "arr_upper = np.char.upper(arr)\n",
        "print(arr_upper)\n",
        ""
      ],
      "metadata": {
        "colab": {
          "base_uri": "https://localhost:8080/"
        },
        "id": "Onyse-da46Ix",
        "outputId": "0dba0394-525a-43dd-ab45-656b80b241b7"
      },
      "execution_count": 42,
      "outputs": [
        {
          "output_type": "stream",
          "name": "stdout",
          "text": [
            "['PYTHON' 'NUMPY' 'PANDAS']\n"
          ]
        }
      ]
    },
    {
      "cell_type": "code",
      "source": [
        "#applying lowercase\n",
        "\n",
        "arr_lower = np.char.lower(arr)\n",
        "print(arr_lower)"
      ],
      "metadata": {
        "colab": {
          "base_uri": "https://localhost:8080/"
        },
        "id": "vJu6xDtD5BO6",
        "outputId": "5bbcc9b4-786e-4ce6-b5c2-f3f239b733c0"
      },
      "execution_count": 43,
      "outputs": [
        {
          "output_type": "stream",
          "name": "stdout",
          "text": [
            "['python' 'numpy' 'pandas']\n"
          ]
        }
      ]
    },
    {
      "cell_type": "code",
      "source": [
        "\n",
        "#applying title case\n",
        "\n",
        "arr_title = np.char.title(arr)\n",
        "print(arr_title)"
      ],
      "metadata": {
        "colab": {
          "base_uri": "https://localhost:8080/"
        },
        "id": "trwvRfvO5E4p",
        "outputId": "76c060ab-0be2-4680-ce51-5202dda647d2"
      },
      "execution_count": 44,
      "outputs": [
        {
          "output_type": "stream",
          "name": "stdout",
          "text": [
            "['Python' 'Numpy' 'Pandas']\n"
          ]
        }
      ]
    },
    {
      "cell_type": "markdown",
      "source": [
        " 6. Generate a NumPy array of words. Insert a space between each character of every word in the array"
      ],
      "metadata": {
        "id": "O-iWiMTIxKDf"
      }
    },
    {
      "cell_type": "code",
      "source": [
        "\n",
        "import numpy as np\n",
        "words_array = np.array(['pw','skills'])\n",
        "print(words_array)"
      ],
      "metadata": {
        "id": "9METoa7KxO1D",
        "colab": {
          "base_uri": "https://localhost:8080/"
        },
        "outputId": "4021c34a-9557-4648-c579-b1ebd76c3449"
      },
      "execution_count": 45,
      "outputs": [
        {
          "output_type": "stream",
          "name": "stdout",
          "text": [
            "['pw' 'skills']\n"
          ]
        }
      ]
    },
    {
      "cell_type": "code",
      "source": [
        "\n",
        "#insert a space between each word\n",
        "\n",
        "spaced_array = np.char.join(' ', words_array)\n",
        "print(spaced_array)"
      ],
      "metadata": {
        "colab": {
          "base_uri": "https://localhost:8080/"
        },
        "id": "SdU-N2Cs5SfB",
        "outputId": "fac71924-29ce-465c-bd80-4fe9577c62cd"
      },
      "execution_count": 46,
      "outputs": [
        {
          "output_type": "stream",
          "name": "stdout",
          "text": [
            "['p w' 's k i l l s']\n"
          ]
        }
      ]
    },
    {
      "cell_type": "markdown",
      "source": [
        "7. Create two 2D NumPy arrays and perform element-wise addition, subtraction, multiplication, and division."
      ],
      "metadata": {
        "id": "3vW265zPxPpq"
      }
    },
    {
      "cell_type": "code",
      "source": [
        "\n",
        "import numpy as np\n",
        "array1 = np.array([[2,2,3]])\n",
        "array2 = np.array([[2,2,2]])\n",
        "print(array1,array2)"
      ],
      "metadata": {
        "id": "7z-uVKG6xR6Z",
        "colab": {
          "base_uri": "https://localhost:8080/"
        },
        "outputId": "9444209a-2811-4cb8-da52-b14cce6c8655"
      },
      "execution_count": 47,
      "outputs": [
        {
          "output_type": "stream",
          "name": "stdout",
          "text": [
            "[[2 2 3]] [[2 2 2]]\n"
          ]
        }
      ]
    },
    {
      "cell_type": "code",
      "source": [
        "\n",
        "#perform element wise addition\n",
        "\n",
        "print(array1+array2)"
      ],
      "metadata": {
        "colab": {
          "base_uri": "https://localhost:8080/"
        },
        "id": "s_oFnC525ePf",
        "outputId": "b4fedc98-efb1-42d1-917e-e134107e00b6"
      },
      "execution_count": 48,
      "outputs": [
        {
          "output_type": "stream",
          "name": "stdout",
          "text": [
            "[[4 4 5]]\n"
          ]
        }
      ]
    },
    {
      "cell_type": "code",
      "source": [
        "#subtraction\n",
        "array1-array2"
      ],
      "metadata": {
        "colab": {
          "base_uri": "https://localhost:8080/"
        },
        "id": "rBJs-ocq5hc0",
        "outputId": "401d2af4-6816-4391-ce8e-eeb05bc75642"
      },
      "execution_count": 49,
      "outputs": [
        {
          "output_type": "execute_result",
          "data": {
            "text/plain": [
              "array([[0, 0, 1]])"
            ]
          },
          "metadata": {},
          "execution_count": 49
        }
      ]
    },
    {
      "cell_type": "code",
      "source": [
        "#multiplication\n",
        "array1*array2"
      ],
      "metadata": {
        "colab": {
          "base_uri": "https://localhost:8080/"
        },
        "id": "JRffNPHz5pvK",
        "outputId": "5f818ec3-3105-4524-c068-be182ff7b3a9"
      },
      "execution_count": 51,
      "outputs": [
        {
          "output_type": "execute_result",
          "data": {
            "text/plain": [
              "array([[4, 4, 6]])"
            ]
          },
          "metadata": {},
          "execution_count": 51
        }
      ]
    },
    {
      "cell_type": "code",
      "source": [
        "#Division\n",
        "array1/array2"
      ],
      "metadata": {
        "colab": {
          "base_uri": "https://localhost:8080/"
        },
        "id": "PnY9Ho8m5w4n",
        "outputId": "48f40ba9-b977-493c-97ab-701632fe411b"
      },
      "execution_count": 52,
      "outputs": [
        {
          "output_type": "execute_result",
          "data": {
            "text/plain": [
              "array([[1. , 1. , 1.5]])"
            ]
          },
          "metadata": {},
          "execution_count": 52
        }
      ]
    },
    {
      "cell_type": "markdown",
      "source": [
        " 8. Use NumPy to create a 5x5 identity matrix, then extract its diagonal elements."
      ],
      "metadata": {
        "id": "GaBA1rhyx_fZ"
      }
    },
    {
      "cell_type": "code",
      "source": [
        "\n",
        "import numpy as np\n",
        "arr = np.eye(5)\n",
        "print(arr)"
      ],
      "metadata": {
        "id": "N2wihupGyBSJ",
        "colab": {
          "base_uri": "https://localhost:8080/"
        },
        "outputId": "5a94fea8-56f0-4f39-b5ac-4c8d804d07cf"
      },
      "execution_count": 53,
      "outputs": [
        {
          "output_type": "stream",
          "name": "stdout",
          "text": [
            "[[1. 0. 0. 0. 0.]\n",
            " [0. 1. 0. 0. 0.]\n",
            " [0. 0. 1. 0. 0.]\n",
            " [0. 0. 0. 1. 0.]\n",
            " [0. 0. 0. 0. 1.]]\n"
          ]
        }
      ]
    },
    {
      "cell_type": "code",
      "source": [
        "#extract its diagonal elements\n",
        "\n",
        "print(np.diag(arr))"
      ],
      "metadata": {
        "colab": {
          "base_uri": "https://localhost:8080/"
        },
        "id": "hECqfAch58ZY",
        "outputId": "7870de4b-b602-402c-9f9f-4a695c2180e2"
      },
      "execution_count": 54,
      "outputs": [
        {
          "output_type": "stream",
          "name": "stdout",
          "text": [
            "[1. 1. 1. 1. 1.]\n"
          ]
        }
      ]
    },
    {
      "cell_type": "markdown",
      "source": [
        "9. Generate a NumPy array of 100 random integers between 0 and 1000. Find and display all prime numbers in\n",
        "this array."
      ],
      "metadata": {
        "id": "q5EvbQmZyLQT"
      }
    },
    {
      "cell_type": "code",
      "source": [
        "import numpy as np\n",
        "\n",
        "def is_prime(n):\n",
        "  \"\"\"Checks if a number is prime.\"\"\"\n",
        "  if n <= 1:\n",
        "    return False\n",
        "  for i in range(2, int(n**0.5) + 1):\n",
        "    if n % i == 0:\n",
        "      return False\n",
        "  return True"
      ],
      "metadata": {
        "id": "HSLKOjnnyLq8"
      },
      "execution_count": 55,
      "outputs": []
    },
    {
      "cell_type": "code",
      "source": [
        "\n",
        "import numpy as np\n",
        "arr = np.random.randint(0,1001,size=100)\n",
        "print(arr)\n",
        ""
      ],
      "metadata": {
        "colab": {
          "base_uri": "https://localhost:8080/"
        },
        "id": "2jMtsdn26Gev",
        "outputId": "2b225770-bc79-40d8-989f-2da54020602f"
      },
      "execution_count": 56,
      "outputs": [
        {
          "output_type": "stream",
          "name": "stdout",
          "text": [
            "[317 343 124 246 832 356 600 680 377 397 542 200 892 657 892 539 893 930\n",
            " 642 352 143 204 385 415 605 209 755 572 730 589 397 129 378 542 485 608\n",
            " 663 727  62 460 502 914 683 871 103  56 712 559 814 204 607 684 488 752\n",
            " 542 775 623 354 312 981 674 367 659  69 729 889 679  14  65 330 117 864\n",
            " 254 735 401 298 112 812 615 183 404 464 482 886 665  43 194 279 316 905\n",
            " 498 197 308 953 789 354 699 727 906 993]\n"
          ]
        }
      ]
    },
    {
      "cell_type": "code",
      "source": [
        "prime_numbers = [num for num in arr if is_prime(num)]\n",
        "print(\"Prime numbers in the array:\", prime_numbers)\n",
        ""
      ],
      "metadata": {
        "colab": {
          "base_uri": "https://localhost:8080/"
        },
        "id": "Lh8oWFQ-6OaH",
        "outputId": "78ca4169-16df-4b65-bdb4-086a1a309c1c"
      },
      "execution_count": 57,
      "outputs": [
        {
          "output_type": "stream",
          "name": "stdout",
          "text": [
            "Prime numbers in the array: [317, 397, 397, 727, 683, 103, 607, 367, 659, 401, 43, 197, 953, 727]\n"
          ]
        }
      ]
    },
    {
      "cell_type": "markdown",
      "source": [
        "10. Create a NumPy array representing daily temperatures for a month. Calculate and display the weekly\n",
        "averages."
      ],
      "metadata": {
        "id": "CdWndc7qyOZI"
      }
    },
    {
      "cell_type": "code",
      "source": [
        "import numpy as np\n",
        "temperatures = np.random.randint(10,40,size=30)\n",
        "print(temperatures)\n",
        ""
      ],
      "metadata": {
        "id": "3QjZie9PyOvS",
        "colab": {
          "base_uri": "https://localhost:8080/"
        },
        "outputId": "b348fbb9-2572-4118-c454-731a82e4c5de"
      },
      "execution_count": 58,
      "outputs": [
        {
          "output_type": "stream",
          "name": "stdout",
          "text": [
            "[34 20 39 11 34 15 28 22 38 17 25 29 21 17 10 13 14 12 35 36 16 29 21 39\n",
            " 14 12 34 36 12 18]\n"
          ]
        }
      ]
    },
    {
      "cell_type": "code",
      "source": [
        "\n",
        "weekly_averages = np.array_split(temperatures,4)\n",
        "print(weekly_averages)\n",
        ""
      ],
      "metadata": {
        "colab": {
          "base_uri": "https://localhost:8080/"
        },
        "id": "jVezK11w6Ssn",
        "outputId": "8d228ecb-2023-449a-f3d1-692a12d93354"
      },
      "execution_count": 59,
      "outputs": [
        {
          "output_type": "stream",
          "name": "stdout",
          "text": [
            "[array([34, 20, 39, 11, 34, 15, 28, 22]), array([38, 17, 25, 29, 21, 17, 10, 13]), array([14, 12, 35, 36, 16, 29, 21]), array([39, 14, 12, 34, 36, 12, 18])]\n"
          ]
        }
      ]
    },
    {
      "cell_type": "code",
      "source": [
        "weekly_averages = [np.mean(week) for week in weekly_averages]\n",
        "print(weekly_averages)\n",
        ""
      ],
      "metadata": {
        "colab": {
          "base_uri": "https://localhost:8080/"
        },
        "id": "TR-Q3vcU6Wfa",
        "outputId": "31ec8698-ada2-480c-f7fb-e66fd6cb1f5b"
      },
      "execution_count": 60,
      "outputs": [
        {
          "output_type": "stream",
          "name": "stdout",
          "text": [
            "[25.375, 21.25, 23.285714285714285, 23.571428571428573]\n"
          ]
        }
      ]
    },
    {
      "cell_type": "code",
      "source": [],
      "metadata": {
        "id": "wucirOax6ZOc"
      },
      "execution_count": null,
      "outputs": []
    }
  ]
}